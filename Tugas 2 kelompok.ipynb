{
  "cells": [
    {
      "cell_type": "markdown",
      "metadata": {
        "id": "-IycjpxksDw7"
      },
      "source": [
        "# TUGAS\n",
        "# Pengenalan Dasar Library Pandas\n",
        "\n",
        "Kelompok 1\n",
        "\n",
        "1.SYIFARIANI KAMIL\n",
        "\n",
        "2.MAURA LUTVIA\n",
        "\n",
        "3.SELVI\n",
        "\n",
        "4.ANDY KANJAYA\n",
        "\n",
        "5.FURQON ALI ABDILAH\n",
        "\n",
        "\n"
      ]
    },
    {
      "cell_type": "code",
      "execution_count": null,
      "metadata": {
        "scrolled": true,
        "id": "teOSNgkisDxD"
      },
      "outputs": [],
      "source": [
        "# import libraries"
      ]
    },
    {
      "cell_type": "code",
      "source": [
        "# Membuat array \"df\" satu dimensi dengan Pandas\n",
        "# nilainya [1,3,4,5]\n",
        "import pandas as pd\n",
        "\n",
        "# Membuat array satu dimensi dengan Pandas\n",
        "df = pd.Series([1, 3, 4, 5], name=\"Nama\")\n",
        "\n",
        "\n",
        "# Membuat dataframe dengan nilai berikut:\n",
        "# 'Nama' : ['Andi', 'Budi', 'Dodo', 'Ema', 'Kari']\n",
        "# 'Nilai' : [80, 20, 90, 40, 55]\n",
        "# 'Kelas' : ['3B', '3A', '3B', '3B', '3A']\n",
        "data = {\n",
        "    'Nama': ['Andi', 'Budi', 'Dodo', 'Ema', 'Kari'],\n",
        "    'Nilai': [80, 20, 90, 40, 55],\n",
        "    'Kelas': ['3B', '3A', '3B', '3B', '3A']\n",
        "}\n",
        "df = pd.DataFrame(data)\n",
        "\n",
        "\n",
        "# Print seluruh baris pada kolom Nam\n",
        "print(df['Nama'])\n",
        "# Sortir data berdasarkan Nilai tertinggi ke Nilai terendah\n",
        "df_sorted = df.sort_values(by='Nilai', ascending=False)\n",
        "print(df_sorted)"
      ],
      "metadata": {
        "id": "_XDnf7dDkG3L",
        "colab": {
          "base_uri": "https://localhost:8080/"
        },
        "outputId": "021bfd1b-e729-4858-e0f2-198b385b91fb"
      },
      "execution_count": 1,
      "outputs": [
        {
          "output_type": "stream",
          "name": "stdout",
          "text": [
            "0    Andi\n",
            "1    Budi\n",
            "2    Dodo\n",
            "3     Ema\n",
            "4    Kari\n",
            "Name: Nama, dtype: object\n",
            "   Nama  Nilai Kelas\n",
            "2  Dodo     90    3B\n",
            "0  Andi     80    3B\n",
            "4  Kari     55    3A\n",
            "3   Ema     40    3B\n",
            "1  Budi     20    3A\n"
          ]
        }
      ]
    },
    {
      "cell_type": "markdown",
      "source": [
        "# Bermain dengan Real Data\n",
        "1. Download data dari link berikut: https://www.kaggle.com/datasets/ruchi798/data-science-job-salaries/\n",
        "\n",
        "2. Save ds_salaries.csv pada Google Drive\n",
        "\n"
      ],
      "metadata": {
        "id": "cXMO0mO3kKTW"
      }
    },
    {
      "cell_type": "code",
      "source": [
        "# load data ds_salaries.csv dengan nama variabel \"df\"\n",
        "import pandas as pd\n",
        "\n",
        "path_to_file = 'ds_salaries.csv'\n",
        "\n",
        "try:\n",
        "    df = pd.read_csv(path_to_file)\n",
        "    print(df.head())\n",
        "except FileNotFoundError:\n",
        "    print(f\"File '{path_to_file}' not found. Please check the file path.\")"
      ],
      "metadata": {
        "id": "XQu2qotARqrU",
        "colab": {
          "base_uri": "https://localhost:8080/"
        },
        "outputId": "42113519-1e09-46e8-ad86-878afe05c356"
      },
      "execution_count": 21,
      "outputs": [
        {
          "output_type": "stream",
          "name": "stdout",
          "text": [
            "File 'ds_salaries.csv' not found. Please check the file path.\n"
          ]
        }
      ]
    },
    {
      "cell_type": "code",
      "source": [
        "# print 5 baris teratas\n",
        "print(df.head())\n",
        "# print 5 baris terakhir\n",
        "print(df.tail())"
      ],
      "metadata": {
        "id": "JMYDfC6j7GL9",
        "colab": {
          "base_uri": "https://localhost:8080/"
        },
        "outputId": "3b9094a6-f090-4019-d03c-c9ea2c75abd8"
      },
      "execution_count": 3,
      "outputs": [
        {
          "output_type": "stream",
          "name": "stdout",
          "text": [
            "   Nama  Nilai Kelas\n",
            "0  Andi     80    3B\n",
            "1  Budi     20    3A\n",
            "2  Dodo     90    3B\n",
            "3   Ema     40    3B\n",
            "4  Kari     55    3A\n",
            "   Nama  Nilai Kelas\n",
            "0  Andi     80    3B\n",
            "1  Budi     20    3A\n",
            "2  Dodo     90    3B\n",
            "3   Ema     40    3B\n",
            "4  Kari     55    3A\n"
          ]
        }
      ]
    },
    {
      "cell_type": "code",
      "source": [
        "# Print nama kolom\n",
        "print(df.columns)"
      ],
      "metadata": {
        "id": "Y-6-tv-e7lNx",
        "colab": {
          "base_uri": "https://localhost:8080/"
        },
        "outputId": "0cfca973-0660-4492-b1a4-611a873a5fae"
      },
      "execution_count": 5,
      "outputs": [
        {
          "output_type": "stream",
          "name": "stdout",
          "text": [
            "Index(['Nama', 'Nilai', 'Kelas'], dtype='object')\n"
          ]
        }
      ]
    },
    {
      "cell_type": "code",
      "source": [
        "# Tampilkan data baris ke 5-10 pada\n",
        "rows_5_to_10 = df.iloc[4:9]  # Indeks dimulai dari 0, sehingga 4:9 mencakup baris 5-10\n",
        "print(rows_5_to_10)\n",
        "# Tampilkan data baris ke 5-10 pada kolom job_title dan company_location\n",
        "selected_rows_and_columns = df.loc[4:9, ['Nama', 'Nilai', 'Kelas']]\n",
        "print(selected_rows_and_columns)"
      ],
      "metadata": {
        "id": "AQ8Q9LszfAaJ",
        "colab": {
          "base_uri": "https://localhost:8080/"
        },
        "outputId": "83dcb7ca-58e2-4cdb-8b2d-3be77543e9d2"
      },
      "execution_count": 19,
      "outputs": [
        {
          "output_type": "stream",
          "name": "stdout",
          "text": [
            "   Nama  Nilai Kelas\n",
            "4  Kari     55    3A\n",
            "   Nama  Nilai Kelas\n",
            "4  Kari     55    3A\n"
          ]
        }
      ]
    },
    {
      "cell_type": "code",
      "source": [
        "# Check if 'salary_in_usd' is in the DataFrame columns\n",
        "if 'salary_in_usd' in df.columns:\n",
        "    print(\"Column 'salary_in_usd' is present the DataFrame.\")\n",
        "else:\n",
        "    print(\"Column 'salary_in_usd' is not present in the DataFrame.\")\n",
        "\n"
      ],
      "metadata": {
        "id": "gspwHMi6fWrA",
        "colab": {
          "base_uri": "https://localhost:8080/"
        },
        "outputId": "7498d419-1308-4863-9f7b-8219add6935f"
      },
      "execution_count": 17,
      "outputs": [
        {
          "output_type": "stream",
          "name": "stdout",
          "text": [
            "Column 'salary_in_usd' is not present in the DataFrame.\n"
          ]
        }
      ]
    },
    {
      "cell_type": "code",
      "source": [
        "# Simpan data baris ke 5-20 ke bentuk .csv dengan nama \"sparse.csv\"\n",
        "subset_df = df.iloc[4:19]  # Rows 5 to 20 (index 4 to 19)\n"
      ],
      "metadata": {
        "id": "dYsb7C9yfktj"
      },
      "execution_count": 8,
      "outputs": []
    }
  ],
  "metadata": {
    "anaconda-cloud": {},
    "kernelspec": {
      "display_name": "Python [Root]",
      "language": "python",
      "name": "Python [Root]"
    },
    "language_info": {
      "codemirror_mode": {
        "name": "ipython",
        "version": 3
      },
      "file_extension": ".py",
      "mimetype": "text/x-python",
      "name": "python",
      "nbconvert_exporter": "python",
      "pygments_lexer": "ipython3",
      "version": "3.5.2"
    },
    "colab": {
      "provenance": []
    }
  },
  "nbformat": 4,
  "nbformat_minor": 0
}